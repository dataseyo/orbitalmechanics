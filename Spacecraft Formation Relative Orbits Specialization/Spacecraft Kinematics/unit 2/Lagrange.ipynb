{
 "cells": [
  {
   "cell_type": "code",
   "execution_count": 2,
   "metadata": {},
   "outputs": [],
   "source": [
    "import numpy as np\n",
    "from scipy.integrate import solve_ivp, odeint\n",
    "import matplotlib.pyplot as plt\n"
   ]
  },
  {
   "cell_type": "markdown",
   "metadata": {},
   "source": [
    "<h2>Question</h2>\n",
    "\n",
    "A dynamical system is given by\n",
    "\n",
    "$$ \\ddot{x} + k_1 x + k_3 x^3 = 0 $$\n",
    "\n",
    "where the term $k_3x^3$ is to be treated as a perturbation to the standard oscillator problem.  Treat $e_1 = x_0$ and $e_2 = \\dot{x}_0$ as invariants of the unperturbed system and derive the necessary differential equations of $e_1(t)$ and $e_2(t)$ such that the perturbed problem has the same algebraic solution $x(t)$ and $\\dot{x}(t)$ as the unperturbed system.\n",
    "\n",
    "Next, numerically integrate the differential equations $\\dot{e}_1$ and $\\dot{e}_2$. Enter below the states at 10s. Use $e_1(0) = 1$ and $e_2(0) = 0$ and the constants $k_1 = 3$ and $k_3 = 1$.\n",
    "\n",
    "<h3>Reasoning</h3>\n",
    "\n",
    "Schaub's text \"Analytical Mechanics Of Space Systems\" has a chapter (ch. 12) on perturbation methods which go over this exact variation of parameters case. In this perturbed scenario, $e_1$ and $e_2$ are now time varying, and we want to preserve the unperturbed form of the differential equations (not for any sacred reason, but for our own sake) and encode the differences between the perturbed and unperturbed problem entirely in $e_i(t)$.\n",
    "\n",
    "Because we're taking $e_1$ and $e_2$ to be constants, the position and velocity of the perturbed and unperturbed problem must be identical (they are our osculating conditions), with only the acceleration express varying."
   ]
  },
  {
   "cell_type": "code",
   "execution_count": 3,
   "metadata": {},
   "outputs": [
    {
     "name": "stdout",
     "output_type": "stream",
     "text": [
      "  message: 'The solver successfully reached the end of the integration interval.'\n",
      "     nfev: 398\n",
      "     njev: 0\n",
      "      nlu: 0\n",
      "      sol: None\n",
      "   status: 0\n",
      "  success: True\n",
      "        t: array([ 0.        ,  0.1010101 ,  0.2020202 ,  0.3030303 ,  0.4040404 ,\n",
      "        0.50505051,  0.60606061,  0.70707071,  0.80808081,  0.90909091,\n",
      "        1.01010101,  1.11111111,  1.21212121,  1.31313131,  1.41414141,\n",
      "        1.51515152,  1.61616162,  1.71717172,  1.81818182,  1.91919192,\n",
      "        2.02020202,  2.12121212,  2.22222222,  2.32323232,  2.42424242,\n",
      "        2.52525253,  2.62626263,  2.72727273,  2.82828283,  2.92929293,\n",
      "        3.03030303,  3.13131313,  3.23232323,  3.33333333,  3.43434343,\n",
      "        3.53535354,  3.63636364,  3.73737374,  3.83838384,  3.93939394,\n",
      "        4.04040404,  4.14141414,  4.24242424,  4.34343434,  4.44444444,\n",
      "        4.54545455,  4.64646465,  4.74747475,  4.84848485,  4.94949495,\n",
      "        5.05050505,  5.15151515,  5.25252525,  5.35353535,  5.45454545,\n",
      "        5.55555556,  5.65656566,  5.75757576,  5.85858586,  5.95959596,\n",
      "        6.06060606,  6.16161616,  6.26262626,  6.36363636,  6.46464646,\n",
      "        6.56565657,  6.66666667,  6.76767677,  6.86868687,  6.96969697,\n",
      "        7.07070707,  7.17171717,  7.27272727,  7.37373737,  7.47474747,\n",
      "        7.57575758,  7.67676768,  7.77777778,  7.87878788,  7.97979798,\n",
      "        8.08080808,  8.18181818,  8.28282828,  8.38383838,  8.48484848,\n",
      "        8.58585859,  8.68686869,  8.78787879,  8.88888889,  8.98989899,\n",
      "        9.09090909,  9.19191919,  9.29292929,  9.39393939,  9.49494949,\n",
      "        9.5959596 ,  9.6969697 ,  9.7979798 ,  9.8989899 , 10.        ])\n",
      " t_events: None\n",
      "        y: array([[ 1.00000000e+00,  1.00500530e+00,  1.01880854e+00,\n",
      "         1.03777252e+00,  1.05673064e+00,  1.07117620e+00,\n",
      "         1.07931615e+00,  1.08235294e+00,  1.08287481e+00,\n",
      "         1.08288640e+00,  1.08243778e+00,  1.07961210e+00,\n",
      "         1.07176606e+00,  1.05756432e+00,  1.03828992e+00,\n",
      "         1.01728477e+00,  9.98592972e-01,  9.85815312e-01,\n",
      "         9.81496148e-01,  9.86664490e-01,  1.00023233e+00,\n",
      "         1.01873957e+00,  1.03725715e+00,  1.05144255e+00,\n",
      "         1.05953545e+00,  1.06262395e+00,  1.06318654e+00,\n",
      "         1.06319331e+00,  1.06284140e+00,  1.06038420e+00,\n",
      "         1.05332391e+00,  1.04033749e+00,  1.02249863e+00,\n",
      "         1.00292030e+00,  9.85433273e-01,  9.73547947e-01,\n",
      "         9.69798838e-01,  9.75213032e-01,  9.88709196e-01,\n",
      "         1.00695648e+00,  1.02518041e+00,  1.03913167e+00,\n",
      "         1.04711126e+00,  1.05018159e+00,  1.05075108e+00,\n",
      "         1.05076227e+00,  1.05043502e+00,  1.04813788e+00,\n",
      "         1.04146835e+00,  1.02913756e+00,  1.01213200e+00,\n",
      "         9.93426013e-01,  9.76732440e-01,  9.65504234e-01,\n",
      "         9.62227547e-01,  9.67901058e-01,  9.81469848e-01,\n",
      "         9.99612381e-01,  1.01760899e+00,  1.03131151e+00,\n",
      "         1.03911168e+00,  1.04209681e+00,  1.04264986e+00,\n",
      "         1.04264344e+00,  1.04231982e+00,  1.04007875e+00,\n",
      "         1.03358467e+00,  1.02158741e+00,  1.00505556e+00,\n",
      "         9.86916401e-01,  9.70791360e-01,  9.60083480e-01,\n",
      "         9.57239616e-01,  9.63212432e-01,  9.76913266e-01,\n",
      "         9.95010213e-01,  1.01280997e+00,  1.02629046e+00,\n",
      "         1.03392778e+00,  1.03683317e+00,  1.03737737e+00,\n",
      "         1.03738634e+00,  1.03707064e+00,  1.03481423e+00,\n",
      "         1.02834699e+00,  1.01649586e+00,  1.00022804e+00,\n",
      "         9.82431163e-01,  9.66729625e-01,  9.56463208e-01,\n",
      "         9.54020523e-01,  9.60310009e-01,  9.74185241e-01,\n",
      "         9.92280570e-01,  1.00993147e+00,  1.02319270e+00,\n",
      "         1.03062767e+00,  1.03341535e+00,  1.03390739e+00,\n",
      "         1.03391384e+00],\n",
      "       [ 0.00000000e+00, -5.00529937e-03, -1.88085408e-02,\n",
      "        -3.77725155e-02, -5.67306413e-02, -7.11761959e-02,\n",
      "        -7.93161496e-02, -8.23529385e-02, -8.28748067e-02,\n",
      "        -8.28864029e-02, -8.24377840e-02, -7.96120972e-02,\n",
      "        -7.17660629e-02, -5.75643224e-02, -3.82899192e-02,\n",
      "        -1.72847692e-02,  1.40702848e-03,  1.41846881e-02,\n",
      "         1.85038516e-02,  1.33355098e-02, -2.32327652e-04,\n",
      "        -1.87395684e-02, -3.72571452e-02, -5.14425528e-02,\n",
      "        -5.95354452e-02, -6.26239469e-02, -6.31865366e-02,\n",
      "        -6.31933081e-02, -6.28413976e-02, -6.03841965e-02,\n",
      "        -5.33239126e-02, -4.03374915e-02, -2.24986333e-02,\n",
      "        -2.92029928e-03,  1.45667271e-02,  2.64520529e-02,\n",
      "         3.02011621e-02,  2.47869683e-02,  1.12908038e-02,\n",
      "        -6.95647627e-03, -2.51804069e-02, -3.91316673e-02,\n",
      "        -4.71112571e-02, -5.01815855e-02, -5.07510791e-02,\n",
      "        -5.07622696e-02, -5.04350160e-02, -4.81378791e-02,\n",
      "        -4.14683495e-02, -2.91375570e-02, -1.21319967e-02,\n",
      "         6.57398741e-03,  2.32675600e-02,  3.44957656e-02,\n",
      "         3.77724535e-02,  3.20989423e-02,  1.85301523e-02,\n",
      "         3.87619428e-04, -1.76089924e-02, -3.13115099e-02,\n",
      "        -3.91116792e-02, -4.20968070e-02, -4.26498622e-02,\n",
      "        -4.26434447e-02, -4.23198236e-02, -4.00787481e-02,\n",
      "        -3.35846732e-02, -2.15874129e-02, -5.05555931e-03,\n",
      "         1.30835986e-02,  2.92086397e-02,  3.99165200e-02,\n",
      "         4.27603844e-02,  3.67875681e-02,  2.30867341e-02,\n",
      "         4.98978663e-03, -1.28099733e-02, -2.62904616e-02,\n",
      "        -3.39277813e-02, -3.68331713e-02, -3.73773701e-02,\n",
      "        -3.73863407e-02, -3.70706388e-02, -3.48142296e-02,\n",
      "        -2.83469874e-02, -1.64958648e-02, -2.28043364e-04,\n",
      "         1.75688372e-02,  3.32703750e-02,  4.35367924e-02,\n",
      "         4.59794768e-02,  3.96899906e-02,  2.58147587e-02,\n",
      "         7.71943001e-03, -9.93146592e-03, -2.31926995e-02,\n",
      "        -3.06276678e-02, -3.34153500e-02, -3.39073922e-02,\n",
      "        -3.39138350e-02]])\n",
      " y_events: None\n",
      "[ 1.0050053 -0.0050053]\n"
     ]
    }
   ],
   "source": [
    "e1_0 = 1\n",
    "e2_0 = 0\n",
    "k1 = 3\n",
    "k3 = 1\n",
    "\n",
    "def e1_dot(t, y):\n",
    "    e1 = y[0]\n",
    "    e2 = y[1]\n",
    "    x = e1*np.cos(np.sqrt(k1)*t) + e2*np.sin(np.sqrt(k1)*t)\n",
    "    return ((k3*(x**3)*np.sin(np.sqrt(k1)*t)) / np.sqrt(k1), (-k3*(x**3)*np.sin(np.sqrt(k1)*t)) / np.sqrt(k1))\n",
    "\n",
    "def e1_dot2(y, t):\n",
    "    e1, e2 = y\n",
    "    x = e1*np.cos(np.sqrt(k1)*t) + e2_0*np.sin(np.sqrt(k1)*t)\n",
    "    return (- (k3*(x**3)*np.sin(np.sqrt(k1)*t)) / np.sqrt(k1), (k3*(x**3)*np.sin(np.sqrt(k1)*t)) / np.sqrt(k1))\n",
    "\n",
    "def conds(t, y):\n",
    "    e1, e2 = y\n",
    "    x = e1_0*np.cos(np.sqrt(k1)*t) + e2_0*np.sin(np.sqrt(k1)*t)\n",
    "    e1 = -e2 * np.tan(np.sqrt(k1)*t)\n",
    "    e2 = (k3*(x**3)) / ((np.sqrt(k1)*np.tan((np.sqrt(k1)*t))*np.sin(np.sqrt(k1)*t) - np.cos(np.sqrt(k1)*t)))\n",
    "    return (e1, e2)\n",
    "\n",
    "initial = np.array([e1_0, e2_0])\n",
    "t_0 = 0 # s\n",
    "t_f = 10 # s\n",
    "t_points = np.linspace(t_0, t_f, 100)\n",
    "\n",
    "# test = odeint(conds, initial, t_points)\n",
    "# print(test[:, 0][-1], test[:, 1][-1])\n",
    "\n",
    "sol = solve_ivp(e1_dot, [t_0, t_f], initial, t_eval=t_points, method=\"DOP853\")\n",
    "print(sol)\n",
    "print(sol.y[:, 1])"
   ]
  },
  {
   "cell_type": "code",
   "execution_count": 352,
   "metadata": {},
   "outputs": [
    {
     "name": "stdout",
     "output_type": "stream",
     "text": [
      "0.9685374586500187 -0.031462541349981304\n"
     ]
    }
   ],
   "source": [
    "def e1(t, y):\n",
    "    e1 = y[0]\n",
    "    e2 = y[1]\n",
    "    # print(e1, e2)\n",
    "    x = e1*np.cos(np.sqrt(k1)*t) + e2*np.sin(np.sqrt(k1)*t)\n",
    "    return - (k3*(x**3)*np.sin(np.sqrt(k1)*t)) / np.sqrt(k1)\n",
    "\n",
    "initial = np.array([e1_0, e2_0])\n",
    "t_0 = 0 # s\n",
    "t_f = 10 # s\n",
    "t_points = np.linspace(t_0, t_f, 100)\n",
    "new_sol = solve_ivp(e1, [t_0, t_f], initial, t_eval=t_points, method=\"DOP853\")\n",
    "print(new_sol.y.T[:, 0][-1], new_sol.y.T[:, 1][-1])"
   ]
  },
  {
   "cell_type": "code",
   "execution_count": 353,
   "metadata": {},
   "outputs": [
    {
     "data": {
      "text/plain": [
       "[<matplotlib.lines.Line2D at 0x148917075e0>,\n",
       " <matplotlib.lines.Line2D at 0x148917076a0>]"
      ]
     },
     "execution_count": 353,
     "metadata": {},
     "output_type": "execute_result"
    },
    {
     "data": {
      "image/png": "[encoded data removed]",
      "text/plain": [
       "<Figure size 432x288 with 1 Axes>"
      ]
     },
     "metadata": {
      "needs_background": "light"
     },
     "output_type": "display_data"
    }
   ],
   "source": [
    "\n",
    "plt.plot(new_sol.t, new_sol.y.T)\n"
   ]
  },
  {
   "cell_type": "code",
   "execution_count": 354,
   "metadata": {},
   "outputs": [
    {
     "ename": "SyntaxError",
     "evalue": "invalid syntax (96490061.py, line 1)",
     "output_type": "error",
     "traceback": [
      "\u001b[1;36m  Input \u001b[1;32mIn [354]\u001b[1;36m\u001b[0m\n\u001b[1;33m    [0.99505848 0.00494152]\u001b[0m\n\u001b[1;37m                ^\u001b[0m\n\u001b[1;31mSyntaxError\u001b[0m\u001b[1;31m:\u001b[0m invalid syntax\n"
     ]
    }
   ],
   "source": [
    "[0.99505848 0.00494152]\n",
    "0.9166613973913051 -0.0833386026086946\n",
    "0.9685374586500187 -0.031462541349981304\n",
    "[0.9908882  0.10274307]\n",
    "[0.99939205 0.10364286]\n",
    "[ 1.00886899 -0.10091069]\n",
    "[ 1.00497318 -0.00497318]\n",
    "[ 1.0050053 -0.0050053]\n",
    "-0.5947808343942195 0.730043647910217\n",
    "e1 at t=10: -0.6055559991072282 e1 at t=10: 0.7314181344751635\n",
    "e1 at t=10: -0.5293198531905282 e1 at t=10: -0.8945415155819629\n",
    "e1 at t=10: -0.5293198531904713 e1 at t=10: -0.8945415155819703\n",
    "e1 at t=10: 1.073010071392865 e1 at t=10: -2.1440831492709416\n",
    " [ 1.08333307 -2.15984498]]\n",
    " [-0.59442675  0.73085803]]\n",
    "e1 at t=10: 0.9186276297050021 e2 at t=10: 2.1368201249573673\n",
    "e1 at t=10: -0.5189068164885718 e2 at t=10: -0.210613074565087\n"
   ]
  },
  {
   "cell_type": "code",
   "execution_count": null,
   "metadata": {},
   "outputs": [
    {
     "name": "stdout",
     "output_type": "stream",
     "text": [
      "e1 at t=10: 0.9186276297050635 e1 at t=10: 2.136820124957358\n"
     ]
    }
   ],
   "source": [
    "e1_0 = 1\n",
    "e2_0 = 0\n",
    "k1 = 3\n",
    "k3 = 1\n",
    "\n",
    "def f(t, y):\n",
    "    # params\n",
    "    e1, e2 = y\n",
    "\n",
    "    # x(t)\n",
    "    x = e1_0*np.cos(np.sqrt(k1)*t) + e2_0*np.sin(np.sqrt(k1)*t)\n",
    "    g = -k3*x**3\n",
    "\n",
    "    # de1/dt\n",
    "    de1 = (np.sin(np.sqrt(k1)*t)*g) / np.sqrt(k1)\n",
    "\n",
    "    # de2/dt\n",
    "    de2 = -(np.cos(np.sqrt(k1)*t)*g) / np.sqrt(k1)\n",
    "    return de1, de2\n",
    "\n",
    "initial = np.array([e1_0, e2_0])\n",
    "t_0 = 0 # s\n",
    "t_f = 10 # s\n",
    "t_points = np.linspace(t_0, t_f, 100)\n",
    "\n",
    "sol = solve_ivp(f, [t_0, t_f], initial, t_eval=t_points)\n",
    "print\n",
    "e1_10 = sol.y.T[:, 0][-1]\n",
    "e2_10 = sol.y.T[:, 1][-1]\n",
    "print(\"e1 at t=10:\", e1_10, \"e1 at t=10:\", e2_10)"
   ]
  },
  {
   "cell_type": "code",
   "execution_count": null,
   "metadata": {},
   "outputs": [
    {
     "data": {
      "text/plain": [
       "[<matplotlib.lines.Line2D at 0x27b19628100>]"
      ]
     },
     "execution_count": 194,
     "metadata": {},
     "output_type": "execute_result"
    },
    {
     "data": {
      "image/png": "[encoded data removed]",
      "text/plain": [
       "<Figure size 432x288 with 1 Axes>"
      ]
     },
     "metadata": {
      "needs_background": "light"
     },
     "output_type": "display_data"
    }
   ],
   "source": [
    "plt.plot(sol.t, sol.y.T[:, 1])\n",
    "plt.plot(sol.t, sol.y.T[:, 0])"
   ]
  },
  {
   "cell_type": "code",
   "execution_count": null,
   "metadata": {},
   "outputs": [
    {
     "name": "stdout",
     "output_type": "stream",
     "text": [
      "e1 at t=10: 0.9186276297050021 e2 at t=10: 2.1368201249573673\n"
     ]
    }
   ],
   "source": [
    "from scipy.integrate import odeint\n",
    "from scipy.optimize import fsolve\n",
    "\n",
    "e1_0 = 1\n",
    "e2_0 = 0\n",
    "k1 = 3\n",
    "k3 = 1\n",
    "\n",
    "initial = np.array([1, 0])\n",
    "t_0 = 0 # s\n",
    "t_f = 10 # s\n",
    "t_points = np.linspace(t_0, t_f, 100)\n",
    "\n",
    "def f(t, y):\n",
    "    e1, e2 = y\n",
    "    k = np.sqrt(k1)\n",
    "    y1 = np.cos(k*t)\n",
    "    y2 = np.sin(k*t)\n",
    "    y1dot = -k*np.sin(k*t)\n",
    "    y2dot = k*np.cos(k*t)\n",
    "\n",
    "    x = e1_0*np.cos(np.sqrt(k1)*t) + e2_0*np.sin(np.sqrt(k1)*t)\n",
    "    g = k3*x**3\n",
    "\n",
    "    u1 = -((y2*g) / (y1*y2dot - y2*y1dot))\n",
    "    u2 = ((y1*g) / (y1*y2dot -y2*y1dot))\n",
    "    return (u1, u2)\n",
    "\n",
    "sol = solve_ivp(f, [t_0, t_f], initial, t_eval=t_points)\n",
    "e1_10 = sol.y.T[:, 0][-1]\n",
    "e2_10 = sol.y.T[:, 1][-1]\n",
    "\n",
    "print(\"e1 at t=10:\", e1_10, \"e2 at t=10:\", e2_10)"
   ]
  },
  {
   "cell_type": "code",
   "execution_count": null,
   "metadata": {},
   "outputs": [
    {
     "name": "stdout",
     "output_type": "stream",
     "text": [
      "-1.9332695480585687 -0.8390715290764524\n"
     ]
    }
   ],
   "source": [
    "inhom = sol.y.T[:, 0][-1]*np.cos(np.sqrt(1)*10) + sol.y.T[:, 1][-1]*np.sin(np.sqrt(1)*10)\n",
    "hom = 1*np.cos(np.sqrt(1)*10)\n",
    "print(inhom, hom)"
   ]
  },
  {
   "cell_type": "code",
   "execution_count": null,
   "metadata": {},
   "outputs": [
    {
     "name": "stdout",
     "output_type": "stream",
     "text": [
      "exp(t*sqrt(-k1)) + exp(-t*sqrt(-k1)) sin(sqrt(k1)*t) + cos(sqrt(k1)*t)\n"
     ]
    },
    {
     "data": {
      "text/latex": [
       "$\\displaystyle x{\\left(t \\right)} = C_{1} \\sin{\\left(\\sqrt{3} t \\right)} + C_{2} \\cos{\\left(\\sqrt{3} t \\right)}$"
      ],
      "text/plain": [
       "Eq(x(t), C1*sin(sqrt(3)*t) + C2*cos(sqrt(3)*t))"
      ]
     },
     "execution_count": 18,
     "metadata": {},
     "output_type": "execute_result"
    }
   ],
   "source": [
    "from sympy import *\n",
    "e1, e2, x = symbols('e1 e2 x', cls=Function)\n",
    "k1, k3, t = symbols('k1 k3 t')\n",
    "\n",
    "diffeq = Eq(x(t).diff(t, t) + 3*x(t), 0)\n",
    "sol = dsolve(diffeq, x(t))\n",
    "expr1 = exp(-t*sqrt(-k1))+exp(t*sqrt(-k1))\n",
    "expr2 = cos(sqrt(k1)*t)+sin(sqrt(k1)*t)\n",
    "\n",
    "print(expr1, expr2)\n",
    "expr1.equals(expr2)\n",
    "sol"
   ]
  },
  {
   "cell_type": "code",
   "execution_count": null,
   "metadata": {},
   "outputs": [
    {
     "data": {
      "text/latex": [
       "$\\displaystyle - \\sqrt{3} \\sin{\\left(\\sqrt{3} t \\right)} + \\sqrt{3} \\cos{\\left(\\sqrt{3} t \\right)}$"
      ],
      "text/plain": [
       "-sqrt(3)*sin(sqrt(3)*t) + sqrt(3)*cos(sqrt(3)*t)"
      ]
     },
     "execution_count": 88,
     "metadata": {},
     "output_type": "execute_result"
    }
   ],
   "source": [
    "diff(sin(sqrt(3)*t)+cos(sqrt(3)*t), t)"
   ]
  },
  {
   "cell_type": "code",
   "execution_count": null,
   "metadata": {},
   "outputs": [
    {
     "data": {
      "text/latex": [
       "$\\displaystyle \\int \\left(k_{1} x{\\left(t \\right)} + \\frac{d^{2}}{d t^{2}} x{\\left(t \\right)}\\right)\\, dt$"
      ],
      "text/plain": [
       "Integral(k1*x(t) + Derivative(x(t), (t, 2)), t)"
      ]
     },
     "execution_count": 28,
     "metadata": {},
     "output_type": "execute_result"
    }
   ],
   "source": [
    "expr3 = x(t).diff(t, t) + 3*x(t)\n",
    "integrate(expr3, t)"
   ]
  },
  {
   "cell_type": "code",
   "execution_count": null,
   "metadata": {},
   "outputs": [
    {
     "name": "stdout",
     "output_type": "stream",
     "text": [
      "e1 at t=10: -0.5189068164885701 e2 at t=10: 0.2106130745650882\n"
     ]
    },
    {
     "data": {
      "text/plain": [
       "<matplotlib.legend.Legend at 0x14889cd6430>"
      ]
     },
     "execution_count": 209,
     "metadata": {},
     "output_type": "execute_result"
    },
    {
     "data": {
      "image/png": "[encoded data removed]",
      "text/plain": [
       "<Figure size 432x288 with 1 Axes>"
      ]
     },
     "metadata": {
      "needs_background": "light"
     },
     "output_type": "display_data"
    }
   ],
   "source": [
    "e1_0 = 1\n",
    "e2_0 = 0\n",
    "k1 = 3\n",
    "k3 = 1\n",
    "\n",
    "initial = np.array([1, 0])\n",
    "t_0 = 0 # s\n",
    "t_f = 10 # s\n",
    "t_points = np.linspace(t_0, t_f, 11)\n",
    "\n",
    "def f(t, y):\n",
    "    e1, e2 = y\n",
    "    x = e1_0*np.cos(np.sqrt(k1)*t) + e2_0*np.sin(np.sqrt(k1)*t)\n",
    "    e1dot = -(3*x**3)*np.cos(t)\n",
    "    e2dot = -(3*x**3)*np.sin(t)\n",
    "    return e1dot, e2dot\n",
    "\n",
    "sol = solve_ivp(f, [t_0, t_f], initial, t_eval=t_points)\n",
    "e1_10 = sol.y.T[:, 0][-1]\n",
    "e2_10 = sol.y.T[:, 1][-1]\n",
    "\n",
    "print(\"e1 at t=10:\", e1_10, \"e2 at t=10:\", e2_10)\n",
    "\n",
    "plt.plot(sol.t, sol.y[0], label=\"e1\")\n",
    "plt.plot(sol.t, sol.y[1], label=\"e2\")\n",
    "plt.legend()\n",
    "# e1: -0.518906816488571 correct"
   ]
  },
  {
   "cell_type": "code",
   "execution_count": null,
   "metadata": {},
   "outputs": [
    {
     "name": "stdout",
     "output_type": "stream",
     "text": [
      "e1 at t=10: 0.9490997201635947 e2 at t=10: 1.2439173513438595\n"
     ]
    },
    {
     "data": {
      "text/plain": [
       "[<matplotlib.lines.Line2D at 0x1488b3c11c0>]"
      ]
     },
     "execution_count": 89,
     "metadata": {},
     "output_type": "execute_result"
    },
    {
     "data": {
      "image/png": "[encoded data removed]",
      "text/plain": [
       "<Figure size 432x288 with 1 Axes>"
      ]
     },
     "metadata": {
      "needs_background": "light"
     },
     "output_type": "display_data"
    }
   ],
   "source": [
    "e1_0 = 1\n",
    "e2_0 = 0\n",
    "k1 = 3\n",
    "k3 = 1\n",
    "\n",
    "initial = np.array([1, 0])\n",
    "t_0 = 0 # s\n",
    "t_f = 10 # s\n",
    "t_points = np.linspace(t_0, t_f, 11)\n",
    "\n",
    "def f(t, y):\n",
    "    e1, e2 = y\n",
    "\n",
    "    x = e1_0*np.cos(np.sqrt(k1)*t) + e2_0*np.sin(np.sqrt(k1)*t)\n",
    "    # (cos(3^(1/2)*t)^2 + sin(3^(1/2)*t)^2)\n",
    "    W = (np.sqrt(3) * np.cos(np.sqrt(3)*t))**2 + (np.sqrt(3) * np.sin(np.sqrt(3)*t))**2\n",
    "    e1dot = - ((np.sin(np.sqrt(3)*t)) * (x**3)) / W\n",
    "    e2dot = ((np.cos(np.sqrt(3)*t)) * (x**3)) / W\n",
    "    return e1dot, e2dot\n",
    "\n",
    "sol = solve_ivp(f, [t_0, t_f], initial, t_eval=t_points)\n",
    "e1_10 = sol.y.T[:, 0][-1]\n",
    "e2_10 = sol.y.T[:, 1][-1]\n",
    "\n",
    "print(\"e1 at t=10:\", e1_10, \"e2 at t=10:\", e2_10)\n",
    "\n",
    "plt.plot(t_points, sol.y.T[:, 0])\n",
    "plt.plot(t_points, sol.y.T[:, 1])\n",
    "# e1: -0.518906816488571 correct"
   ]
  },
  {
   "cell_type": "code",
   "execution_count": null,
   "metadata": {},
   "outputs": [
    {
     "name": "stdout",
     "output_type": "stream",
     "text": [
      "  message: 'The solver successfully reached the end of the integration interval.'\n",
      "     nfev: 50\n",
      "     njev: 0\n",
      "      nlu: 0\n",
      "      sol: None\n",
      "   status: 0\n",
      "  success: True\n",
      "        t: array([ 0.,  1.,  2.,  3.,  4.,  5.,  6.,  7.,  8.,  9., 10.])\n",
      " t_events: None\n",
      "        y: array([[ 1.        ,  1.84145005,  1.90643749,  1.14546442,  0.24270607,\n",
      "         0.04013314,  0.72104291,  1.66191077,  1.98750496,  1.41168331,\n",
      "         0.45618335],\n",
      "       [ 0.        ,  0.84145005,  0.90643749,  0.14546442, -0.75729393,\n",
      "        -0.95986686, -0.27895709,  0.66191077,  0.98750496,  0.41168331,\n",
      "        -0.54381665]])\n",
      " y_events: None\n",
      "e1 at t=10: 0.4561833512157285\n"
     ]
    },
    {
     "data": {
      "text/plain": [
       "[<matplotlib.lines.Line2D at 0x1488b5108b0>]"
      ]
     },
     "execution_count": 126,
     "metadata": {},
     "output_type": "execute_result"
    },
    {
     "data": {
      "image/png": "[encoded data removed]",
      "text/plain": [
       "<Figure size 432x288 with 1 Axes>"
      ]
     },
     "metadata": {
      "needs_background": "light"
     },
     "output_type": "display_data"
    }
   ],
   "source": [
    "e1_0 = 1\n",
    "e2_0 = 0\n",
    "k1 = 3\n",
    "k3 = 1\n",
    "\n",
    "initial = np.array([1, 0])\n",
    "t_0 = 0 # s\n",
    "t_f = 10 # s\n",
    "t_points = np.linspace(t_0, t_f, 11)\n",
    "\n",
    "def f(t, y):\n",
    "    e1, e2 = y\n",
    "    # x = e1_0*np.cos(np.sqrt(k1)*t) + e2_0*np.sin(np.sqrt(k1)*t)\n",
    "    e1dot = np.cos(t)\n",
    "    return e1dot\n",
    "\n",
    "sol = solve_ivp(f, [t_0, t_f], initial, t_eval=t_points)\n",
    "print(sol)\n",
    "e1_10 = sol.y.T[:, 0][-1]\n",
    "\n",
    "print(\"e1 at t=10:\", e1_10)\n",
    "\n",
    "plt.plot(t_points, sol.y.T[:, 0])\n",
    "# e1: -0.518906816488571 correct"
   ]
  },
  {
   "cell_type": "code",
   "execution_count": null,
   "metadata": {},
   "outputs": [
    {
     "ename": "ValueError",
     "evalue": "setting an array element with a sequence. The requested array has an inhomogeneous shape after 1 dimensions. The detected shape was (2,) + inhomogeneous part.",
     "output_type": "error",
     "traceback": [
      "\u001b[1;31m---------------------------------------------------------------------------\u001b[0m",
      "\u001b[1;31mValueError\u001b[0m                                Traceback (most recent call last)",
      "Input \u001b[1;32mIn [128]\u001b[0m, in \u001b[0;36m<cell line: 13>\u001b[1;34m()\u001b[0m\n\u001b[0;32m     10\u001b[0m     \u001b[38;5;28;01mreturn\u001b[39;00m e1, e2\n\u001b[0;32m     11\u001b[0m initial \u001b[38;5;241m=\u001b[39m np\u001b[38;5;241m.\u001b[39marray([\u001b[38;5;241m1\u001b[39m, \u001b[38;5;241m0\u001b[39m])\n\u001b[1;32m---> 13\u001b[0m sol \u001b[38;5;241m=\u001b[39m \u001b[43msolve_ivp\u001b[49m\u001b[43m(\u001b[49m\u001b[43mde1\u001b[49m\u001b[43m,\u001b[49m\u001b[43m \u001b[49m\u001b[43m[\u001b[49m\u001b[43mt_0\u001b[49m\u001b[43m,\u001b[49m\u001b[43m \u001b[49m\u001b[43mt_f\u001b[49m\u001b[43m]\u001b[49m\u001b[43m,\u001b[49m\u001b[43m \u001b[49m\u001b[43minitial\u001b[49m\u001b[43m,\u001b[49m\u001b[43m \u001b[49m\u001b[43mt_eval\u001b[49m\u001b[38;5;241;43m=\u001b[39;49m\u001b[43mt_points\u001b[49m\u001b[43m)\u001b[49m\n",
      "File \u001b[1;32mc:\\ProgramData\\Anaconda3\\lib\\site-packages\\scipy\\integrate\\_ivp\\ivp.py:542\u001b[0m, in \u001b[0;36msolve_ivp\u001b[1;34m(fun, t_span, y0, method, t_eval, dense_output, events, vectorized, args, **options)\u001b[0m\n\u001b[0;32m    539\u001b[0m \u001b[38;5;28;01mif\u001b[39;00m method \u001b[38;5;129;01min\u001b[39;00m METHODS:\n\u001b[0;32m    540\u001b[0m     method \u001b[38;5;241m=\u001b[39m METHODS[method]\n\u001b[1;32m--> 542\u001b[0m solver \u001b[38;5;241m=\u001b[39m method(fun, t0, y0, tf, vectorized\u001b[38;5;241m=\u001b[39mvectorized, \u001b[38;5;241m*\u001b[39m\u001b[38;5;241m*\u001b[39moptions)\n\u001b[0;32m    544\u001b[0m \u001b[38;5;28;01mif\u001b[39;00m t_eval \u001b[38;5;129;01mis\u001b[39;00m \u001b[38;5;28;01mNone\u001b[39;00m:\n\u001b[0;32m    545\u001b[0m     ts \u001b[38;5;241m=\u001b[39m [t0]\n",
      "File \u001b[1;32mc:\\ProgramData\\Anaconda3\\lib\\site-packages\\scipy\\integrate\\_ivp\\rk.py:94\u001b[0m, in \u001b[0;36mRungeKutta.__init__\u001b[1;34m(self, fun, t0, y0, t_bound, max_step, rtol, atol, vectorized, first_step, **extraneous)\u001b[0m\n\u001b[0;32m     92\u001b[0m \u001b[38;5;28mself\u001b[39m\u001b[38;5;241m.\u001b[39mmax_step \u001b[38;5;241m=\u001b[39m validate_max_step(max_step)\n\u001b[0;32m     93\u001b[0m \u001b[38;5;28mself\u001b[39m\u001b[38;5;241m.\u001b[39mrtol, \u001b[38;5;28mself\u001b[39m\u001b[38;5;241m.\u001b[39matol \u001b[38;5;241m=\u001b[39m validate_tol(rtol, atol, \u001b[38;5;28mself\u001b[39m\u001b[38;5;241m.\u001b[39mn)\n\u001b[1;32m---> 94\u001b[0m \u001b[38;5;28mself\u001b[39m\u001b[38;5;241m.\u001b[39mf \u001b[38;5;241m=\u001b[39m \u001b[38;5;28;43mself\u001b[39;49m\u001b[38;5;241;43m.\u001b[39;49m\u001b[43mfun\u001b[49m\u001b[43m(\u001b[49m\u001b[38;5;28;43mself\u001b[39;49m\u001b[38;5;241;43m.\u001b[39;49m\u001b[43mt\u001b[49m\u001b[43m,\u001b[49m\u001b[43m \u001b[49m\u001b[38;5;28;43mself\u001b[39;49m\u001b[38;5;241;43m.\u001b[39;49m\u001b[43my\u001b[49m\u001b[43m)\u001b[49m\n\u001b[0;32m     95\u001b[0m \u001b[38;5;28;01mif\u001b[39;00m first_step \u001b[38;5;129;01mis\u001b[39;00m \u001b[38;5;28;01mNone\u001b[39;00m:\n\u001b[0;32m     96\u001b[0m     \u001b[38;5;28mself\u001b[39m\u001b[38;5;241m.\u001b[39mh_abs \u001b[38;5;241m=\u001b[39m select_initial_step(\n\u001b[0;32m     97\u001b[0m         \u001b[38;5;28mself\u001b[39m\u001b[38;5;241m.\u001b[39mfun, \u001b[38;5;28mself\u001b[39m\u001b[38;5;241m.\u001b[39mt, \u001b[38;5;28mself\u001b[39m\u001b[38;5;241m.\u001b[39my, \u001b[38;5;28mself\u001b[39m\u001b[38;5;241m.\u001b[39mf, \u001b[38;5;28mself\u001b[39m\u001b[38;5;241m.\u001b[39mdirection,\n\u001b[0;32m     98\u001b[0m         \u001b[38;5;28mself\u001b[39m\u001b[38;5;241m.\u001b[39merror_estimator_order, \u001b[38;5;28mself\u001b[39m\u001b[38;5;241m.\u001b[39mrtol, \u001b[38;5;28mself\u001b[39m\u001b[38;5;241m.\u001b[39matol)\n",
      "File \u001b[1;32mc:\\ProgramData\\Anaconda3\\lib\\site-packages\\scipy\\integrate\\_ivp\\base.py:138\u001b[0m, in \u001b[0;36mOdeSolver.__init__.<locals>.fun\u001b[1;34m(t, y)\u001b[0m\n\u001b[0;32m    136\u001b[0m \u001b[38;5;28;01mdef\u001b[39;00m \u001b[38;5;21mfun\u001b[39m(t, y):\n\u001b[0;32m    137\u001b[0m     \u001b[38;5;28mself\u001b[39m\u001b[38;5;241m.\u001b[39mnfev \u001b[38;5;241m+\u001b[39m\u001b[38;5;241m=\u001b[39m \u001b[38;5;241m1\u001b[39m\n\u001b[1;32m--> 138\u001b[0m     \u001b[38;5;28;01mreturn\u001b[39;00m \u001b[38;5;28;43mself\u001b[39;49m\u001b[38;5;241;43m.\u001b[39;49m\u001b[43mfun_single\u001b[49m\u001b[43m(\u001b[49m\u001b[43mt\u001b[49m\u001b[43m,\u001b[49m\u001b[43m \u001b[49m\u001b[43my\u001b[49m\u001b[43m)\u001b[49m\n",
      "File \u001b[1;32mc:\\ProgramData\\Anaconda3\\lib\\site-packages\\scipy\\integrate\\_ivp\\base.py:20\u001b[0m, in \u001b[0;36mcheck_arguments.<locals>.fun_wrapped\u001b[1;34m(t, y)\u001b[0m\n\u001b[0;32m     19\u001b[0m \u001b[38;5;28;01mdef\u001b[39;00m \u001b[38;5;21mfun_wrapped\u001b[39m(t, y):\n\u001b[1;32m---> 20\u001b[0m     \u001b[38;5;28;01mreturn\u001b[39;00m \u001b[43mnp\u001b[49m\u001b[38;5;241;43m.\u001b[39;49m\u001b[43masarray\u001b[49m\u001b[43m(\u001b[49m\u001b[43mfun\u001b[49m\u001b[43m(\u001b[49m\u001b[43mt\u001b[49m\u001b[43m,\u001b[49m\u001b[43m \u001b[49m\u001b[43my\u001b[49m\u001b[43m)\u001b[49m\u001b[43m,\u001b[49m\u001b[43m \u001b[49m\u001b[43mdtype\u001b[49m\u001b[38;5;241;43m=\u001b[39;49m\u001b[43mdtype\u001b[49m\u001b[43m)\u001b[49m\n",
      "\u001b[1;31mValueError\u001b[0m: setting an array element with a sequence. The requested array has an inhomogeneous shape after 1 dimensions. The detected shape was (2,) + inhomogeneous part."
     ]
    }
   ],
   "source": [
    "e1_0 = 1\n",
    "e2_0 = 0\n",
    "k1 = 3\n",
    "k3 = 1\n",
    "\n",
    "def de1(t, y):\n",
    "    x = e1_0*np.cos(np.sqrt(k1)*t) + e2_0*np.sin(np.sqrt(k1)*t)\n",
    "    e1 = (np.sin(np.sqrt(3)*y)/np.sqrt(3))*x**3\n",
    "    e2 = -(np.cos(np.sqrt(3)*t)/np.sqrt(3))*x**3\n",
    "    return e1, e2\n",
    "initial = np.array([1, 0])\n",
    "\n",
    "sol = solve_ivp(de1, [t_0, t_f], initial, t_eval=t_points)\n",
    "# plt.plot(sol1.t, sol1.y[0])\n",
    "# print(sol1.y[0][-1])\n",
    "\n",
    "# def de2(t, y):\n",
    "#     x = np.cos(np.sqrt(3)*t)\n",
    "#     return -(3*x**3)*np.cos(t)\n",
    "\n",
    "# sol = solve_ivp(de2, (0, 10), [1])\n",
    "# plt.plot(sol.t, sol.y[0])\n",
    "# print(sol.y[0][-1])"
   ]
  },
  {
   "cell_type": "code",
   "execution_count": null,
   "metadata": {},
   "outputs": [
    {
     "name": "stdout",
     "output_type": "stream",
     "text": [
      "Earth Volume 259883851296.82016 \n",
      "Sun Volume 3.393275988809431e+17 \n",
      "Volume ratio 1305689.4346751394\n",
      "\n",
      "Earth Radius 3958.8 \n",
      "Sun Radius 432690 \n",
      "Radii ratio 109.29827220369809\n"
     ]
    }
   ],
   "source": [
    "def V(r):\n",
    "    return 4/3*np.pi*r**3\n",
    "\n",
    "Earth_r = 3958.8 # miles\n",
    "Sun_r = 432690 # miles\n",
    "\n",
    "Earth_V = V(Earth_r) # mi^3\n",
    "Sun_V = V(Sun_r) # mi^3\n",
    "\n",
    "print(\"Earth Volume\", Earth_V, \"\\nSun Volume\", Sun_V, \"\\nVolume ratio\", Sun_V/Earth_V)\n",
    "print(\"\\nEarth Radius\", Earth_r, \"\\nSun Radius\", Sun_r, \"\\nRadii ratio\", Sun_r/Earth_r)\n"
   ]
  },
  {
   "cell_type": "code",
   "execution_count": null,
   "metadata": {},
   "outputs": [
    {
     "data": {
      "text/plain": [
       "[{x: -sqrt(3)*sin(sqrt(3)*z)/(3*sin(sqrt(3)*z)**2 + 3*cos(sqrt(3)*z)**2),\n",
       "  y: sqrt(3)*cos(sqrt(3)*z)/(3*sin(sqrt(3)*z)**2 + 3*cos(sqrt(3)*z)**2)}]"
      ]
     },
     "execution_count": 162,
     "metadata": {},
     "output_type": "execute_result"
    }
   ],
   "source": [
    "from sympy import *\n",
    "from sympy.abc import x, y, z\n",
    "a = symbols('a')\n",
    "equations = [x*cos(sqrt(3)*z)+y*sin(sqrt(3)*z), x*(-sqrt(3)*sin(sqrt(3)*z)) + y*sqrt(3)*cos(sqrt(3)*z)-1]\n",
    "solutions = solve(equations, x, y, dict=True)\n",
    "solutions"
   ]
  },
  {
   "cell_type": "code",
   "execution_count": null,
   "metadata": {},
   "outputs": [
    {
     "name": "stdout",
     "output_type": "stream",
     "text": [
      "-0.5773769335190285 -1.1085847936050701\n"
     ]
    }
   ],
   "source": [
    "e1_0 = 1\n",
    "e2_0 = 0\n",
    "k1 = 3\n",
    "k3 = 1\n",
    "\n",
    "initial = np.array([1, 0])\n",
    "t_0 = 0 # s\n",
    "t_f = 10 # s\n",
    "t_points = np.linspace(t_0, t_f, 11)\n",
    "\n",
    "def f(t, y):\n",
    "    # e1, e2 = y\n",
    "    x = -(y[0]*np.cos(np.sqrt(k1)*t) + y[1]*np.sin(np.sqrt(k1)*t))**3\n",
    "    e1dot = -np.sqrt(3)*x*np.sin(np.sqrt(3)*t)/(3*np.sin(np.sqrt(3)*t)**2 + 3*cos(np.sqrt(3)*t)**2)\n",
    "    e2dot = np.sqrt(3)*x*np.cos(np.sqrt(3)*t)/(3*np.sin(np.sqrt(3)*t)**2 + 3*np.cos(np.sqrt(3)*t)**2)\n",
    "    return e1dot, e2dot\n",
    "\n",
    "sol = solve_ivp(f, [t_0, t_f], initial, t_eval=t_points)\n",
    "e1_10 = sol.y.T[:, 0][-1]\n",
    "e2_10 = sol.y.T[:, 1][-1]\n",
    "print(e1_10, e2_10)\n",
    "# -0.5293198531904945 -0.8945415155819677\n",
    "# e1 correct: -0.518906816488571"
   ]
  },
  {
   "cell_type": "code",
   "execution_count": null,
   "metadata": {},
   "outputs": [
    {
     "data": {
      "text/plain": [
       "<matplotlib.legend.Legend at 0x1488d111ee0>"
      ]
     },
     "execution_count": 170,
     "metadata": {},
     "output_type": "execute_result"
    },
    {
     "data": {
      "image/png": "[encoded data removed]",
      "text/plain": [
       "<Figure size 432x288 with 1 Axes>"
      ]
     },
     "metadata": {
      "needs_background": "light"
     },
     "output_type": "display_data"
    }
   ],
   "source": [
    "plt.plot(sol.t, sol.y[0], label=\"e1\")\n",
    "plt.plot(sol.t, sol.y[1], label=\"e2\")\n",
    "plt.legend()"
   ]
  },
  {
   "cell_type": "code",
   "execution_count": null,
   "metadata": {},
   "outputs": [
    {
     "name": "stdout",
     "output_type": "stream",
     "text": [
      "-0.5215526517858247 -0.8936809477888705\n"
     ]
    }
   ],
   "source": [
    "e1_0 = 1\n",
    "e2_0 = 0\n",
    "k1 = 3\n",
    "k3 = 1\n",
    "\n",
    "initial = np.array([1, 0])\n",
    "t_0 = 0 # s\n",
    "t_f = 10 # s\n",
    "t_points = np.linspace(t_0, t_f, 11)\n",
    "\n",
    "def f(t, y):\n",
    "    x = -(y[0]*np.cos(np.sqrt(k1)*t) + y[1]*np.sin(np.sqrt(k1)*t))**3\n",
    "    e1dot = -(np.sin(np.sqrt(3)*t)/np.sqrt(3))*x\n",
    "    e2dot = (np.cos(np.sqrt(3)*t)/np.sqrt(3))*x\n",
    "    return e1dot, e2dot\n",
    "rtol, atol = (1e-8, 1e-8)\n",
    "sol2 = solve_ivp(f, [t_0, t_f], initial, t_eval=t_points, atol=1e-20, rtol=1e-6)\n",
    "e1_10 = sol2.y.T[:, 0][-1]\n",
    "e2_10 = sol2.y.T[:, 1][-1]\n",
    "print(e1_10, e2_10)\n",
    "# -0.5293198531904945 -0.8945415155819677\n",
    "# -0.5215526442941181 -0.8936809312830646\n",
    "# e1 correct: -0.518906816488571"
   ]
  },
  {
   "cell_type": "code",
   "execution_count": null,
   "metadata": {},
   "outputs": [
    {
     "data": {
      "text/plain": [
       "<matplotlib.legend.Legend at 0x1488a16bbe0>"
      ]
     },
     "execution_count": 205,
     "metadata": {},
     "output_type": "execute_result"
    },
    {
     "data": {
      "image/png": "[encoded data removed]",
      "text/plain": [
       "<Figure size 432x288 with 1 Axes>"
      ]
     },
     "metadata": {
      "needs_background": "light"
     },
     "output_type": "display_data"
    }
   ],
   "source": [
    "plt.plot(sol.t, sol.y[0], label=\"e1\")\n",
    "plt.plot(sol.t, sol.y[1], label=\"e2\")\n",
    "plt.legend()"
   ]
  },
  {
   "cell_type": "code",
   "execution_count": 180,
   "metadata": {},
   "outputs": [
    {
     "name": "stdout",
     "output_type": "stream",
     "text": [
      "e1 -0.521596082859148 e2 -0.8936749996147972\n"
     ]
    }
   ],
   "source": [
    "# SOLUTION QUIZ 1 QUESTION 4\n",
    "\n",
    "from scipy.integrate import odeint\n",
    "import math\n",
    "\n",
    "# constants\n",
    "e1_0 = 1\n",
    "e2_0 = 0\n",
    "k1 = 3\n",
    "k3 = 1\n",
    "\n",
    "# config \n",
    "initial = np.array([1, 0])\n",
    "t_0 = 0 # s\n",
    "t_f = 10 # s\n",
    "t_points = np.linspace(t_0, t_f, 10)\n",
    "\n",
    "# system of ODEs\n",
    "def f(y, t):\n",
    "    e1, e2 = y\n",
    "    sq_k1 = math.sqrt(k1)\n",
    "    x = -(e1*math.cos(sq_k1*t) + e2*math.sin(sq_k1*t))**3\n",
    "    e1dot = -(math.sin(sq_k1*t)/math.sqrt(3))*x\n",
    "    e2dot = (math.cos(sq_k1*t)/math.sqrt(3))*x\n",
    "    return [e1dot, e2dot]\n",
    "\n",
    "# solution\n",
    "sol = odeint(f, initial, t_points, rtol=1e-5)\n",
    "print(\"e1\", sol[:, 0][-1], \"e2\", sol[:, 1][-1])\n",
    "e1 = sol[:, 0]\n",
    "e2 = sol[:, 1]\n",
    "# e1 correct: -0.518906816488571 or 0.5215556210526402 (varies with tolerance and scheme)\n",
    "# "
   ]
  },
  {
   "cell_type": "code",
   "execution_count": null,
   "metadata": {},
   "outputs": [
    {
     "data": {
      "text/plain": [
       "<matplotlib.legend.Legend at 0x1489163a2b0>"
      ]
     },
     "execution_count": 338,
     "metadata": {},
     "output_type": "execute_result"
    },
    {
     "data": {
      "image/png": "[encoded data removed]",
      "text/plain": [
       "<Figure size 432x288 with 1 Axes>"
      ]
     },
     "metadata": {
      "needs_background": "light"
     },
     "output_type": "display_data"
    }
   ],
   "source": [
    "# homogenous solution\n",
    "def f_h(t, X):\n",
    "    x, dx = X\n",
    "    ddx = -3*x\n",
    "    return [dx, ddx]\n",
    "\n",
    "initial = np.array([1, 0])\n",
    "t_0 = 0 # s\n",
    "t_f = 10 # s\n",
    "t_points = np.linspace(t_0, t_f, 1000)\n",
    "sol2 = solve_ivp(f_h, [t_0, t_f], initial, t_eval=t_points)\n",
    "# print(sol2)\n",
    "plt.plot(sol2.t, sol2.y[0], label=\"unperturbed\")\n",
    "\n",
    "# perturbed solution\n",
    "def f_p(t, iter=[0]):\n",
    "    iter[0]+=1\n",
    "    sq_k1 = math.sqrt(k1)\n",
    "    return e1[iter[0]]*np.cos(sq_k1 * t ) + e2[iter[0]]*np.sin(sq_k1 * t)\n",
    "\n",
    "t1 = np.arange(0.0, 10.0, .1)\n",
    "plt.plot(t1, f_p(t1), \"red\", label=\"perturbed\")\n",
    "plt.xlabel(\"t (seconds)\")\n",
    "plt.ylabel(\"x(t)\")\n",
    "plt.legend()\n",
    "plt.legend(bbox_to_anchor=(1.1, .95))"
   ]
  },
  {
   "cell_type": "code",
   "execution_count": 177,
   "metadata": {},
   "outputs": [
    {
     "name": "stdout",
     "output_type": "stream",
     "text": [
      "1.0 0.0\n",
      "1.01 0.0\n",
      "1.0233857451041404 0.0\n",
      "1.0350779448673293 -0.0001881496831100722\n",
      "1.0526156558339386 -0.0004233322762162455\n",
      "1.1251893228194807 -0.0023973534645582387\n",
      "1.1481474832326115 -0.0033576376936491916\n",
      "1.1111272561961247 -0.0018888126422370343\n",
      "1.136758449115089 -0.002861018169220364\n",
      "1.2891782492060715 -0.012811650922678731\n",
      "1.266461007390256 -0.010874575531165963\n",
      "1.3802191049021968 -0.022180203635924874\n",
      "1.4432261312132868 -0.03017738091525636\n",
      "1.4432261311765588 -0.03017738191698834\n",
      "1.0444580932596168 -0.00030223446512335863\n",
      "1.0889079683128566 -0.001208881991618976\n",
      "1.3451516991840737 -0.018266569266316767\n",
      "1.6612085138250632 -0.05999860965541054\n",
      "1.7673893092358213 -0.09132049543250866\n",
      "1.9267445574080047 -0.1340802448545442\n",
      "2.5566946246643747 -0.395075635639259\n",
      "2.7434484647192434 -0.5035421221635018\n",
      "2.4392240067399156 -0.33375476515089675\n",
      "2.651792564383424 -0.4478584173387533\n",
      "3.6956450268555088 -1.4187527143919176\n",
      "3.568492653560389 -1.2460685997266345\n",
      "4.084375339808036 -2.1845502555797722\n",
      "4.230760677736171 -2.7622697256063526\n",
      "4.230438914166666 -2.7628861059865804\n",
      "1.8528889218427522 -0.11318463704172808\n",
      "2.248618057661107 -0.24777349701303578\n",
      "3.958604610140023 -1.877304973096262\n",
      "4.281974255615893 -3.0911787623345846\n",
      "4.269974367786376 -3.2593013796809505\n",
      "4.261262390312116 -3.5083259862085723\n",
      "4.022795436082231 -4.508312898796692\n",
      "3.8878451731444974 -4.804037269099844\n",
      "4.096414617174207 -4.3212554578278715\n",
      "3.9602661125960488 -4.6591527579165\n",
      "2.477102879104726 -6.18858884462982\n",
      "2.7581588895350224 -6.028171665160789\n",
      "1.2272056066837504 -6.530701402468529\n",
      "0.34038475158078096 -6.4741428865859145\n",
      "0.3326731393711313 -6.471184049976111\n",
      "4.267713617483211 -3.3925555710386286\n",
      "4.18337028760356 -4.017700521031102\n",
      "1.7256916121494377 -6.4586190314942264\n",
      "-0.012173312886166854 -6.3992965378758635\n",
      "-0.17365247239852333 -6.322110332134998\n",
      "-0.4161337561308738 -6.217394028408226\n",
      "-1.3032600987067013 -5.585188320792166\n",
      "-1.537283540151081 -5.332795550847412\n",
      "-1.1500799680967007 -5.733755592040107\n",
      "-1.4255132730068514 -5.463130130432675\n",
      "-2.2698076079634966 -3.374372194219398\n",
      "-2.2406521150121943 -3.7160498944072047\n",
      "-2.021051154352029 -2.0229411152194094\n",
      "-1.5451391911640193 -1.2154535420688246\n",
      "-1.5370731098408175 -1.206951764643823\n",
      "0.035901423500262264 -6.409318311830833\n",
      "-0.10460767268471038 -6.3477767565249135\n",
      "-0.31575788566089824 -6.2635764453378036\n",
      "-1.1104302935811032 -5.764686840501428\n",
      "-1.3297816395923978 -5.564566259995907\n",
      "-0.9688974786798339 -5.880816014081465\n",
      "-1.223742652501459 -5.6674748880045795\n",
      "-2.1935587075240917 -3.975986990891149\n",
      "-2.1167262723632247 -4.261144177519505\n",
      "-2.234287389369279 -2.7946624763341\n",
      "-2.0184152891785647 -2.008719481724243\n",
      "-2.0154165701861975 -2.0050231287816924\n",
      "-0.21826793105641384 -6.30459437294056\n",
      "-0.7314779261746167 -6.043966551901042\n",
      "-2.2700263959750244 -3.2517945593214033\n",
      "-1.8981444911309757 -1.7254733472198645\n",
      "-1.8109610262647828 -1.5992623627766918\n",
      "-1.6880756261703351 -1.4080209360733673\n",
      "-1.046926545387728 -0.7229494580981801\n",
      "-0.8086815994020782 -0.5457416550783094\n",
      "-1.1878928512676368 -0.8397656524242705\n",
      "-0.9299073976975456 -0.6302328281647709\n",
      "0.9153641779111714 -0.0004334165174015858\n",
      "0.6207921183020053 -0.02153189694019786\n",
      "2.0828113186001604 -0.18551071905760308\n",
      "2.8132323413222626 -0.5471628778823903\n",
      "2.8162896920628415 -0.5508108837924761\n",
      "-1.7469155774970795 -1.495910763479476\n",
      "-1.3932871510586762 -1.0417540766370046\n",
      "1.6408607503685033 -0.06333579065890249\n",
      "3.076120064127816 -0.724365306118806\n",
      "3.1860732941744234 -0.8381407504966331\n",
      "3.354577487769176 -1.0009358173549086\n",
      "3.9130615029033278 -1.7903035046613718\n",
      "4.041123898712111 -2.068136198021134\n",
      "3.8250936547327137 -1.6232583838456949\n",
      "3.9818629511290813 -1.9278357018402446\n",
      "4.204913314632066 -3.9230930098878645\n",
      "4.251590526761921 -3.6223277936109843\n",
      "3.74179635409419 -5.049960226331248\n",
      "3.2004775689354648 -5.690719593239545\n",
      "3.1954449213749845 -5.693411473927161\n",
      "3.277658119896311 -0.9236804817026456\n",
      "3.6640765022442765 -1.3737945368066273\n",
      "3.9709718883342338 -4.636329860551803\n",
      "2.950718825988184 -5.915116656052494\n",
      "2.8046138869842783 -5.996943158644319\n",
      "2.5930850733849864 -6.125647158182467\n",
      "1.6330078382012894 -6.474770353202968\n",
      "1.3138762106734492 -6.5249047314808815\n",
      "1.8283914513281594 -6.433335519964131\n",
      "1.4736596818124605 -6.505516989301074\n",
      "-0.6082192687955632 -6.1184021777441435\n",
      "-0.32066220143341706 -6.262372542169204\n",
      "-1.5813625574865924 -5.275136372636739\n",
      "-2.0264134522137933 -4.512005096025536\n",
      "-2.0281280267680817 -4.504239978879499\n",
      "2.69272576498707 -6.067793846949184\n",
      "2.1277668926641473 -6.3393724360814065\n",
      "-1.2461632920291574 -5.646683794596774\n",
      "-2.1603137071259457 -4.179930940637211\n",
      "-2.186554379614942 -4.003970727125813\n",
      "-2.235133016136713 -3.7459106128916173\n",
      "-2.208968474030817 -2.663168234630616\n",
      "-2.1319022500252665 -2.3297227895196357\n",
      "-2.2457044585020265 -2.8720824546581087\n",
      "-2.1767024361764857 -2.494438327943983\n",
      "-0.9331375377485049 -0.630828672906425\n",
      "-1.1971488822892717 -0.8465569117211214\n",
      "0.3144722296037141 -0.07435620972846824\n",
      "1.2444976365612992 -0.008169246524833085\n",
      "1.2556636457052188 -0.01000925912906414\n",
      "-2.2151577933735016 -3.866470231082012\n",
      "-2.2693355009277236 -3.2040011550272207\n",
      "-0.1951854488885607 -0.22599627416645696\n",
      "1.5772438135421418 -0.035229112930559144\n",
      "1.7334809031230534 -0.08333064720723606\n",
      "1.9670149469108953 -0.14629282413320108\n",
      "2.8628874638823696 -0.5861998886205785\n",
      "3.115050102410569 -0.7761112454967019\n",
      "2.7011130405848247 -0.47730698334658145\n",
      "2.9927297696578 -0.6773282233929554\n",
      "4.151208046399127 -2.3931645778120174\n",
      "4.0523782378666695 -2.094946013385374\n",
      "4.246906054604872 -3.647283325480633\n",
      "4.037098437228696 -4.485751017588512\n",
      "4.033283807869698 -4.491510964114235\n",
      "1.858958059850875 -0.1148215576064573\n",
      "2.4321560820712396 -0.3303005056948543\n",
      "4.268247095974112 -3.1592358902062214\n",
      "3.9060282775501425 -4.807514776523277\n",
      "3.806207650236444 -4.948701716004142\n",
      "3.6665832580481585 -5.16260059366281\n",
      "2.9235784438348325 -5.90975711786803\n",
      "2.646798848324726 -6.0950621579917215\n",
      "3.0885768835136242 -5.7861023397364235\n",
      "2.788082224826001 -6.007824958215191\n",
      "0.6682361464287663 -6.524369217090804\n",
      "0.9995209961392169 -6.541004215394231\n",
      "-0.5977528399147909 -6.121345570701543\n",
      "-1.3230494653206089 -5.5731033381573045\n",
      "-1.3288716828543876 -5.565487325738737\n",
      "3.733657094653151 -5.064465419582566\n",
      "3.327102279825632 -5.567280439216942\n",
      "-0.12913535433421774 -6.339069507169436\n",
      "-1.427872191709148 -5.465047040795569\n",
      "-1.4723970920759863 -5.410130018064204\n",
      "-1.5403160847067618 -5.32905102852252\n",
      "-1.7923610238955905 -4.971431638624232\n",
      "-1.8620271933299075 -4.851678429380863\n",
      "-1.747361188129 -5.043390158624805\n",
      "-1.8281442922168072 -4.911495089300442\n",
      "-2.173010642225697 -4.060546578756023\n",
      "-2.1369736768839354 -4.19322441389006\n",
      "-2.2606977219630844 -3.516262388934377\n",
      "-2.267192633331558 -3.13354778721494\n",
      "-2.267151700933397 -3.1335222907161104\n",
      "-1.5090502943736823 -5.367038951864843\n",
      "-1.6723705302952476 -5.154500375987958\n",
      "-2.2377983665712895 -3.727787596862182\n",
      "-2.267151700933397 -3.1335222907161104\n"
     ]
    }
   ],
   "source": [
    "# QUIZ 2 \n",
    "import math\n",
    "init = [1, 0]\n",
    "g = 9.81\n",
    "sq3 = math.sqrt(3)\n",
    "t_0 = 0 # s\n",
    "t_f = 10 # s\n",
    "t_points = np.linspace(t_0, t_f, 1000)\n",
    "\n",
    "def f(t, y):\n",
    "    e1, e2 = y\n",
    "    print(e1, e2)\n",
    "    L12 = sq3\n",
    "    # print(L12)\n",
    "    dote1 = -1/L12*(-g*np.cos(sq3*t))\n",
    "    dote2 = 1/L12*(-g*np.sin(sq3*t))\n",
    "    return dote1, dote2\n",
    "\n",
    "sol = solve_ivp(f, [t_0, t_f], init, t_eval=t_points, method=\"DOP853\", rtol=1e-5)\n",
    "e1_10 = sol.y.T[:, 0][-1]\n",
    "e2_10 = sol.y.T[:, 1][-1]\n",
    "print(e1_10, e2_10)\n",
    "# -2.267286372377012 -3.133489827181195\n",
    "# -2.267151700933397 -3.1335222907161104\n"
   ]
  },
  {
   "cell_type": "code",
   "execution_count": 137,
   "metadata": {},
   "outputs": [
    {
     "data": {
      "text/latex": [
       "$\\displaystyle y{\\left(t \\right)} = C_{1} \\sin{\\left(\\sqrt{3} t \\right)} + C_{2} \\cos{\\left(\\sqrt{3} t \\right)}$"
      ],
      "text/plain": [
       "Eq(y(t), C1*sin(sqrt(3)*t) + C2*cos(sqrt(3)*t))"
      ]
     },
     "execution_count": 137,
     "metadata": {},
     "output_type": "execute_result"
    }
   ],
   "source": [
    "# from sympy import Function, dsolve, Derivative, checkodesol, diff, Matrix, Symbol\n",
    "import sympy as sp\n",
    "\n",
    "t, C1 = sp.symbols('t C_1')\n",
    "y = sp.Function('y')\n",
    "\n",
    "# solve unperturbed diff eq\n",
    "diffeq = sp.Eq(y(t).diff(t, t), -3*y(t))\n",
    "r = sp.dsolve(diffeq)\n",
    "r"
   ]
  },
  {
   "cell_type": "code",
   "execution_count": null,
   "metadata": {},
   "outputs": [],
   "source": []
  },
  {
   "cell_type": "code",
   "execution_count": 136,
   "metadata": {},
   "outputs": [
    {
     "name": "stderr",
     "output_type": "stream",
     "text": [
      "c:\\ProgramData\\Anaconda3\\lib\\site-packages\\sympy\\integrals\\integrals.py:1563: SymPyDeprecationWarning: \n",
      "\n",
      "Creating a indefinite integral with an Eq() argument is\n",
      "deprecated.\n",
      "\n",
      "This is because indefinite integrals do not preserve equality\n",
      "due to the arbitrary constants. If you want an equality of\n",
      "indefinite integrals, use Eq(Integral(a, x), Integral(b, x))\n",
      "explicitly.\n",
      "\n",
      "See https://docs.sympy.org/latest/explanation/active-deprecations.html#deprecated-indefinite-integral-eq\n",
      "for details.\n",
      "\n",
      "This has been deprecated since SymPy version 1.6. It\n",
      "will be removed in a future version of SymPy.\n",
      "\n",
      "  integral = Integral(*args, **kwargs)\n"
     ]
    },
    {
     "data": {
      "text/latex": [
       "$\\displaystyle \\int y{\\left(t \\right)}\\, dt = - \\frac{\\sqrt{3} C_{1} \\cos{\\left(\\sqrt{3} t \\right)}}{3} + \\frac{\\sqrt{3} C_{2} \\sin{\\left(\\sqrt{3} t \\right)}}{3}$"
      ],
      "text/plain": [
       "Eq(Integral(y(t), t), -sqrt(3)*C1*cos(sqrt(3)*t)/3 + sqrt(3)*C2*sin(sqrt(3)*t)/3)"
      ]
     },
     "execution_count": 136,
     "metadata": {},
     "output_type": "execute_result"
    }
   ],
   "source": [
    "# integrate to get velocity\n",
    "\n",
    "# v = sp.Integral(r, t)\n",
    "v = sp.integrate(r, t)\n",
    "v"
   ]
  },
  {
   "cell_type": "code",
   "execution_count": 138,
   "metadata": {},
   "outputs": [
    {
     "data": {
      "text/latex": [
       "$\\displaystyle \\frac{\\partial}{\\partial e_{1}} y{\\left(t \\right)} = e_{1} \\sin{\\left(\\sqrt{3} t \\right)} + e_{2} \\cos{\\left(\\sqrt{3} t \\right)}$"
      ],
      "text/plain": [
       "Derivative(Eq(y(t), e1*sin(sqrt(3)*t) + e2*cos(sqrt(3)*t)), e1)"
      ]
     },
     "execution_count": 138,
     "metadata": {},
     "output_type": "execute_result"
    }
   ],
   "source": [
    "t = sp.symbols('t')\n",
    "# y = sp.Function('y')\n",
    "# y = \n",
    "e1 = sp.symbols('e1')\n",
    "e2 = sp.symbols('e2')\n",
    "\n",
    "y = r.subs([('C1', e1), ('C2', e2)])\n",
    "v = v.subs([('C1', e1), ('C2', e2)])\n",
    "# compute partial derivatives\n",
    "dyde1 = sp.diff(y, e1)\n",
    "dyde2 = sp.diff(y, 'C2')\n",
    "dvde1 = sp.diff(v, 'C1')\n",
    "dvde2 = sp.diff(v, 'C2')\n",
    "\n",
    "# compute matrix terms\n",
    "\n",
    "# L12 = dyde1*dvde2 - dvde1*dyde2\n",
    "\n",
    "# construct matrix \n",
    "\n",
    "# L = Matrix([[0, L12], [-L12, 0]])\n",
    "# print(L) # check matrix\n",
    "\n",
    "# invert matrix \n",
    "dyde1"
   ]
  },
  {
   "cell_type": "code",
   "execution_count": 110,
   "metadata": {},
   "outputs": [
    {
     "data": {
      "text/latex": [
       "$\\displaystyle \\left[\\begin{matrix}0 & - \\frac{\\sqrt{3}}{\\sin^{2}{\\left(\\sqrt{3} t \\right)}}\\\\\\frac{\\sqrt{3}}{\\sin^{2}{\\left(\\sqrt{3} t \\right)}} & 0\\end{matrix}\\right]$"
      ],
      "text/plain": [
       "Matrix([\n",
       "[                        0, -sqrt(3)/sin(sqrt(3)*t)**2],\n",
       "[sqrt(3)/sin(sqrt(3)*t)**2,                          0]])"
      ]
     },
     "execution_count": 110,
     "metadata": {},
     "output_type": "execute_result"
    }
   ],
   "source": [
    "dyde1 = sp.sin(sp.sqrt(3)*t)\n",
    "dyde2 = sp.cos(sp.sqrt(3)*t)\n",
    "dve1 = -(sp.sqrt(3) * sp.cos(sp.sqrt(3)*t))/3\n",
    "dve2 = (sp.sqrt(3) * sp.sin(sp.sqrt(3)*t))/3\n",
    "\n",
    "\n",
    "e1e2 = dyde1*dve2 - dvde1*dyde2\n",
    "L = sp.Matrix([[0, e1e2], [-e1e2, 0]])\n",
    "L_inv = L.inv()\n",
    "L_inv"
   ]
  },
  {
   "cell_type": "code",
   "execution_count": 120,
   "metadata": {},
   "outputs": [
    {
     "data": {
      "text/latex": [
       "$\\displaystyle - g \\cos{\\left(\\sqrt{3} t \\right)}$"
      ],
      "text/plain": [
       "-g*cos(sqrt(3)*t)"
      ]
     },
     "execution_count": 120,
     "metadata": {},
     "output_type": "execute_result"
    }
   ],
   "source": [
    "g = sp.symbols('g')\n",
    "e1 = sp.symbols('e1')\n",
    "e2 = sp.symbols('e2')\n",
    "R = -g*(e1*sp.sin(sp.sqrt(3)*t) + e2*sp.cos(sp.sqrt(3)*t))\n",
    "sp.diff(R, e2)"
   ]
  },
  {
   "cell_type": "code",
   "execution_count": null,
   "metadata": {},
   "outputs": [],
   "source": []
  }
 ],
 "metadata": {
  "kernelspec": {
   "display_name": "Python 3",
   "language": "python",
   "name": "python3"
  },
  "language_info": {
   "codemirror_mode": {
    "name": "ipython",
    "version": 3
   },
   "file_extension": ".py",
   "mimetype": "text/x-python",
   "name": "python",
   "nbconvert_exporter": "python",
   "pygments_lexer": "ipython3",
   "version": "3.9.12"
  }
 },
 "nbformat": 4,
 "nbformat_minor": 2
}
